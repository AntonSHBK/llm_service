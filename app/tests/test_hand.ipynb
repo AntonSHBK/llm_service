{
 "cells": [
  {
   "cell_type": "markdown",
   "id": "f2042d3e",
   "metadata": {},
   "source": [
    "# Тестирование сервиса в ручную"
   ]
  },
  {
   "cell_type": "code",
   "execution_count": 28,
   "id": "c2a3f7a8",
   "metadata": {},
   "outputs": [],
   "source": [
    "from pathlib import Path\n",
    "\n",
    "DATA_PATH = Path('data')\n",
    "DATA_PATH.mkdir(parents=True, exist_ok=True)\n",
    "\n",
    "import pandas as pd\n",
    "\n",
    "pd.set_option('display.max_colwidth', 500) "
   ]
  },
  {
   "cell_type": "code",
   "execution_count": 29,
   "id": "9b12a68f",
   "metadata": {},
   "outputs": [],
   "source": [
    "import sys\n",
    "import os\n",
    "\n",
    "project_path = os.path.abspath(os.path.join(os.getcwd(), \"../..\"))\n",
    "sys.path.append(project_path)"
   ]
  },
  {
   "cell_type": "code",
   "execution_count": 30,
   "id": "0fe21e56",
   "metadata": {},
   "outputs": [
    {
     "name": "stdout",
     "output_type": "stream",
     "text": [
      "OpenAI API Key загружен: да\n"
     ]
    }
   ],
   "source": [
    "from app.settings import settings\n",
    "from app.models.openai import OpenAITextModel, OpenAIImageModel, OpenAITranscribeModel, OpenAITTSModel\n",
    "\n",
    "print(f\"OpenAI API Key загружен: {'да' if settings.OPENAI_API_KEY else 'нет'}\")"
   ]
  },
  {
   "cell_type": "markdown",
   "id": "68615cdd",
   "metadata": {},
   "source": [
    "# Чат\n",
    "## OpenAI"
   ]
  },
  {
   "cell_type": "code",
   "execution_count": 31,
   "id": "653a8fc9",
   "metadata": {},
   "outputs": [],
   "source": [
    "llm_openai = OpenAITextModel(api_key=settings.OPENAI_API_KEY, model_name=\"gpt-5-nano\")\n"
   ]
  },
  {
   "cell_type": "markdown",
   "id": "84fd72a7",
   "metadata": {},
   "source": [
    "### Простой запрос"
   ]
  },
  {
   "cell_type": "code",
   "execution_count": 32,
   "id": "484323f2",
   "metadata": {},
   "outputs": [],
   "source": [
    "# input = [{\"role\": \"user\", \"content\": \"Привет, как тебя зовут?\"}]\n",
    "# response = llm_openai.generate(\n",
    "#     input=input,\n",
    "#     model_name=\"gpt-5-nano\"\n",
    "# )\n",
    "\n",
    "# print(response.output_text)\n"
   ]
  },
  {
   "cell_type": "code",
   "execution_count": null,
   "id": "45623777",
   "metadata": {},
   "outputs": [
    {
     "name": "stdout",
     "output_type": "stream",
     "text": [
      "Потоковый ответ:\n",
      "2025-09-10 17:51:53 - httpx - INFO - HTTP Request: POST https://api.openai.com/v1/responses \"HTTP/1.1 200 OK\"\n",
      "У меня всё хорошо, спасибо за вопрос. Готов помочь с чем угодно. Что тебе нужно — поучиться, написать текст, решить задачу или просто поболтать?\n",
      "--- Ответ завершён ---\n"
     ]
    }
   ],
   "source": [
    "# input = [{\"role\": \"user\", \"content\": \"Как твои дела?\"}]\n",
    "\n",
    "# print(\"Потоковый ответ:\")\n",
    "\n",
    "# stream = llm_openai.generate_stream(\n",
    "#     input=input,\n",
    "#     model_name=\"gpt-5-nano\"\n",
    "# )\n",
    "\n",
    "# for event in stream:\n",
    "#     if event.type == \"response.output_text.delta\":\n",
    "#         print(event.delta, end=\"\", flush=True)\n",
    "#     elif event.type == \"response.completed\":\n",
    "#         print(\"\\n--- Ответ завершён ---\")\n",
    "#     elif event.type == \"response.error\":\n",
    "#         print(f\"\\n[Ошибка]: {event.error}\")\n"
   ]
  },
  {
   "cell_type": "markdown",
   "id": "6fe9d236",
   "metadata": {},
   "source": [
    "### Структурированный ответ"
   ]
  },
  {
   "cell_type": "code",
   "execution_count": 7,
   "id": "a6d3b1bb",
   "metadata": {},
   "outputs": [],
   "source": [
    "# from pydantic import BaseModel\n",
    "# from app.models.openai import OpenAITextModel\n",
    "\n",
    "# class DiagnosisDetection(BaseModel):\n",
    "#     has_diagnosis: bool\n",
    "#     possible_diagnoses: list[str]\n",
    "\n",
    "# response = llm_openai.generate_with_shema_pydantic(\n",
    "#     model_name=\"gpt-5-nano\",\n",
    "#     input=[\n",
    "#         llm_openai.complete_input(\"system\", \"Ты медицинский ассистент. Определи, есть ли у пациента возможный диагноз и перечисли его.\"),\n",
    "#         llm_openai.complete_input(\"user\", \"У пациента высокая температура, кашель и затруднённое дыхание.\")\n",
    "#     ],\n",
    "#     text_format=DiagnosisDetection,\n",
    "# )\n",
    "\n",
    "# print(response)"
   ]
  },
  {
   "cell_type": "code",
   "execution_count": 8,
   "id": "cb7e775f",
   "metadata": {},
   "outputs": [],
   "source": [
    "# print(response.has_diagnosis)"
   ]
  },
  {
   "cell_type": "code",
   "execution_count": 9,
   "id": "07fae5a0",
   "metadata": {},
   "outputs": [],
   "source": [
    "# from app.utils.json_schema import SchemaBuilder\n",
    "\n",
    "# json_schema = SchemaBuilder.object(\n",
    "#     name=\"diagnosis_detection\",\n",
    "#     properties={\n",
    "#         \"has_diagnosis\": SchemaBuilder.field(\n",
    "#             SchemaBuilder.BOOLEAN,\n",
    "#             description=\"Есть ли у пользователя признаки возможного диагноза\"\n",
    "#         ),\n",
    "#         \"possible_diagnoses\": SchemaBuilder.field(\n",
    "#             SchemaBuilder.ARRAY,\n",
    "#             description=\"Список возможных диагнозов на основе симптомов\",\n",
    "#             items=SchemaBuilder.field(SchemaBuilder.STRING)\n",
    "#         )\n",
    "#     },\n",
    "#     required=[\"has_diagnosis\", \"possible_diagnoses\"]\n",
    "# )\n",
    "\n",
    "# # делаем запрос через наш метод\n",
    "# response = llm_openai.generate_with_shema(\n",
    "#     input=[\n",
    "#         llm_openai.complete_input(\"system\", \"Ты медицинский ассистент. Определи, есть ли у пациента возможный диагноз и перечисли его.\"),\n",
    "#         llm_openai.complete_input(\"user\", \"У пациента высокая температура, кашель и затруднённое дыхание.\")\n",
    "#     ],\n",
    "#     json_schema=json_schema\n",
    "# )\n",
    "\n",
    "\n"
   ]
  },
  {
   "cell_type": "code",
   "execution_count": 10,
   "id": "09eae791",
   "metadata": {},
   "outputs": [],
   "source": [
    "# print(response)"
   ]
  },
  {
   "cell_type": "code",
   "execution_count": 11,
   "id": "9db49981",
   "metadata": {},
   "outputs": [],
   "source": [
    "# print(type(response))"
   ]
  },
  {
   "cell_type": "markdown",
   "id": "0100e504",
   "metadata": {},
   "source": [
    "## Яндекс"
   ]
  },
  {
   "cell_type": "code",
   "execution_count": 12,
   "id": "480d2c80",
   "metadata": {},
   "outputs": [],
   "source": [
    "# from app.models.yandex import YandexTextModel\n",
    "\n",
    "# llm_yandex = YandexTextModel(\n",
    "#     auth=settings.YANDEX_API_KEY,\n",
    "#     folder_id=settings.YANDEX_FOLDER_ID,\n",
    "#     model_name=\"yandexgpt-lite\"\n",
    "# )"
   ]
  },
  {
   "cell_type": "code",
   "execution_count": 13,
   "id": "0351463c",
   "metadata": {},
   "outputs": [],
   "source": [
    "# messages = [{\"role\": \"user\", \"text\": \"Привет, как тебя зовут?\"}]\n",
    "# response = llm_yandex.generate(messages=messages)\n",
    "\n",
    "# print(\"Ответ YandexGPT:\")\n",
    "# print(response)"
   ]
  },
  {
   "cell_type": "code",
   "execution_count": 14,
   "id": "864ba776",
   "metadata": {},
   "outputs": [],
   "source": [
    "# messages = [{\"role\": \"user\", \"text\": \"Как твои дела?\"}]\n",
    "\n",
    "# response = llm_yandex.generate_stream(messages=messages)\n",
    "# response"
   ]
  },
  {
   "cell_type": "code",
   "execution_count": 15,
   "id": "adde31be",
   "metadata": {},
   "outputs": [],
   "source": [
    "# from app.services.token_manager import TokenManager\n",
    "\n",
    "# tm = TokenManager()\n",
    "# text = \"Привет, мир!\"\n",
    "# print(f\"Текст: {text}\")\n",
    "# print(f\"Токенов: {tm.count_tokens(text, model_name='gpt-4.1-nano')}\")\n"
   ]
  },
  {
   "cell_type": "markdown",
   "id": "c8d0761b",
   "metadata": {},
   "source": [
    "# Транскрибация"
   ]
  },
  {
   "cell_type": "code",
   "execution_count": 16,
   "id": "81bdf5f0",
   "metadata": {},
   "outputs": [],
   "source": [
    "# import io\n",
    "# from pathlib import Path\n",
    "\n",
    "# from app.models.whisper import WhisperService\n",
    "# from app.settings import settings\n",
    "\n",
    "# audio_model = WhisperService(\n",
    "#     model_name=\"tiny\",\n",
    "#     # model_name=\"base\",\n",
    "#     # model_name=\"dvislobokov/faster-whisper-large-v3-turbo-russian\",\n",
    "#     # model_name=\"Systran/faster-whisper-large-v3\",\n",
    "#     # model_name=\"Zoont/faster-whisper-large-v3-turbo-int8-ct2\",\n",
    "#     device=\"cpu\",\n",
    "#     # compute_type=\"float16\",\n",
    "# )\n",
    "\n",
    "# audio_path = Path(\"test.wav\")"
   ]
  },
  {
   "cell_type": "code",
   "execution_count": 17,
   "id": "2b61c734",
   "metadata": {},
   "outputs": [],
   "source": [
    "# with open(audio_path, \"rb\") as f:\n",
    "#     audio_stream = io.BytesIO(f.read())\n",
    "\n",
    "\n",
    "# result_text = audio_model.generate(\n",
    "#     audio_stream,\n",
    "#     language=\"ru\",\n",
    "#     audio_format=\"wav\",\n",
    "#     # task=\"transcribe\",\n",
    "#     # beam_size=5,\n",
    "#     # temperature=0.1,\n",
    "# )\n",
    "\n",
    "# print(\"Результат транскрипции:\")\n",
    "# print(result_text)"
   ]
  },
  {
   "cell_type": "code",
   "execution_count": null,
   "id": "2d0abd4f",
   "metadata": {},
   "outputs": [],
   "source": [
    "# import io\n",
    "\n",
    "# audio_model = OpenAITranscribeModel(\n",
    "#     api_key=settings.OPENAI_API_KEY,\n",
    "#     model_name=\"gpt-4o-mini-transcribe\"\n",
    "# )"
   ]
  },
  {
   "cell_type": "code",
   "execution_count": null,
   "id": "1c6567c8",
   "metadata": {},
   "outputs": [
    {
     "name": "stdout",
     "output_type": "stream",
     "text": [
      "2025-09-10 17:30:56 - httpx - INFO - HTTP Request: POST https://api.openai.com/v1/audio/transcriptions \"HTTP/1.1 200 OK\"\n",
      "Результат транскрипции:\n",
      "Шла Саша по Шоссе и сосала сушку.\n"
     ]
    }
   ],
   "source": [
    "# audio_path = DATA_PATH / \"test.wav\"\n",
    "# with open(audio_path, \"rb\") as f:\n",
    "#     audio_stream = io.BytesIO(f.read())\n",
    "\n",
    "# result_text = audio_model.generate(\n",
    "#     audio_stream,\n",
    "#     filename=audio_path.name,\n",
    "#     language=\"ru\"\n",
    "# )\n",
    "\n",
    "# print(\"Результат транскрипции:\")\n",
    "# print(result_text)\n"
   ]
  },
  {
   "cell_type": "code",
   "execution_count": 20,
   "id": "67507b02",
   "metadata": {},
   "outputs": [],
   "source": [
    "# import io\n",
    "# from pathlib import Path\n",
    "\n",
    "# from app.models.yandex import YandexSpeechToTextModel\n",
    "# from app.settings import settings\n",
    "\n",
    "# audio_model = YandexSpeechToTextModel(\n",
    "#     api_key=settings.YANDEX_API_KEY,\n",
    "#     folder_id=settings.YANDEX_FOLDER_ID,\n",
    "#     model_name=\"general\",\n",
    "#     language=\"ru-RU\"\n",
    "# )"
   ]
  },
  {
   "cell_type": "code",
   "execution_count": 21,
   "id": "7029fc6b",
   "metadata": {},
   "outputs": [],
   "source": [
    "# audio_path = Path(\"test.wav\")\n",
    "# with open(audio_path, \"rb\") as f:\n",
    "#     audio_stream = io.BytesIO(f.read())\n",
    "\n",
    "# result_text = audio_model.generate(\n",
    "#     audio_stream,\n",
    "#     filename=audio_path.name,\n",
    "#     enable_automatic_punctuation=True\n",
    "# )\n",
    "\n",
    "# print(\"Результат транскрипции:\")\n",
    "# print(result_text)"
   ]
  },
  {
   "cell_type": "markdown",
   "id": "0971033e",
   "metadata": {},
   "source": [
    "# Аудео"
   ]
  },
  {
   "cell_type": "markdown",
   "id": "e3d15a7e",
   "metadata": {},
   "source": [
    "# TTS"
   ]
  },
  {
   "cell_type": "code",
   "execution_count": 22,
   "id": "34d82c98",
   "metadata": {},
   "outputs": [],
   "source": [
    "# from app.models.openai import OpenAITTSModel\n",
    "\n",
    "# tts_model = OpenAITTSModel(\n",
    "#     api_key=settings.OPENAI_API_KEY,\n",
    "#     model_name=\"gpt-4o-mini-tts\",\n",
    "# )"
   ]
  },
  {
   "cell_type": "code",
   "execution_count": 23,
   "id": "0957a212",
   "metadata": {},
   "outputs": [],
   "source": [
    "# audio_path = Path(\"output.wav\")\n",
    "# result_path = tts_model.generate(\n",
    "#     text=\"Привет! Это тест синтеза речи с помощью модели OpenAI.\",\n",
    "#     output_path=audio_path,\n",
    "#     voice=\"alloy\",\n",
    "#     response_format=\"wav\",\n",
    "# )"
   ]
  },
  {
   "cell_type": "markdown",
   "id": "bd630788",
   "metadata": {},
   "source": [
    "# Изображения"
   ]
  },
  {
   "cell_type": "code",
   "execution_count": 24,
   "id": "eb02fdf8",
   "metadata": {},
   "outputs": [],
   "source": [
    "# import base64\n",
    "# from pathlib import Path\n",
    "# from app.models.openai import OpenAIImageModel\n",
    "# from app.settings import settings\n",
    "\n",
    "# image_model = OpenAIImageModel(\n",
    "#     api_key=settings.OPENAI_API_KEY,\n",
    "#     model_name=\"gpt-image-1\"\n",
    "# )\n",
    "\n",
    "# prompt = \"Футуристический город на закате\"\n",
    "# result_images = image_model.generate(\n",
    "#     prompt=prompt,\n",
    "#     n=1,\n",
    "#     size=\"1024x1024\",\n",
    "#     quality=\"low\"\n",
    "# )"
   ]
  },
  {
   "cell_type": "code",
   "execution_count": 25,
   "id": "392680dd",
   "metadata": {},
   "outputs": [],
   "source": [
    "\n",
    "# output_dir = Path(\"generated_images\")\n",
    "# output_dir.mkdir(exist_ok=True)\n",
    "\n",
    "# for idx, img_b64 in enumerate(result_images, start=1):\n",
    "#     img_bytes = base64.b64decode(img_b64)\n",
    "#     img_path = output_dir / f\"image_{idx}.png\"\n",
    "#     with open(img_path, \"wb\") as f:\n",
    "#         f.write(img_bytes)\n",
    "#     print(f\"Сохранено: {img_path}\")\n"
   ]
  },
  {
   "cell_type": "code",
   "execution_count": 26,
   "id": "fd398db8",
   "metadata": {},
   "outputs": [],
   "source": [
    "# from app.models.yandex import YandexImageModel\n",
    "# from app.settings import settings\n",
    "\n",
    "# # Инициализация модели\n",
    "# art_model = YandexImageModel(\n",
    "#     auth=settings.YANDEX_API_KEY,\n",
    "#     folder_id=settings.YANDEX_FOLDER_ID,\n",
    "#     model_name=\"yandex-art\"\n",
    "# )"
   ]
  },
  {
   "cell_type": "code",
   "execution_count": null,
   "id": "aedd4c55",
   "metadata": {},
   "outputs": [],
   "source": [
    "prompt = \"Нарисуй красную кошку в стиле Миядзаки\"\n",
    "\n",
    "result = art_model.generate(prompt, output_path=\"./cat.jpeg\", width_ratio=1, height_ratio=1, seed=42)\n",
    "\n",
    "print(\"Изображение успешно сгенерировано и сохранено в ./cat.jpeg\")\n",
    "print(\"Версия модели:\", result.model_version)\n",
    "print(\"Размер байтов:\", len(result.image_bytes))"
   ]
  },
  {
   "cell_type": "code",
   "execution_count": null,
   "id": "1b5f2658",
   "metadata": {},
   "outputs": [],
   "source": []
  }
 ],
 "metadata": {
  "kernelspec": {
   "display_name": ".venv",
   "language": "python",
   "name": "python3"
  },
  "language_info": {
   "codemirror_mode": {
    "name": "ipython",
    "version": 3
   },
   "file_extension": ".py",
   "mimetype": "text/x-python",
   "name": "python",
   "nbconvert_exporter": "python",
   "pygments_lexer": "ipython3",
   "version": "3.11.5"
  }
 },
 "nbformat": 4,
 "nbformat_minor": 5
}
