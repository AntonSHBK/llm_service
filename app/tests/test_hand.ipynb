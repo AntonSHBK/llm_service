{
 "cells": [
  {
   "cell_type": "markdown",
   "id": "f2042d3e",
   "metadata": {},
   "source": [
    "# Тестирование сервиса в ручную"
   ]
  },
  {
   "cell_type": "code",
   "execution_count": 11,
   "id": "c2a3f7a8",
   "metadata": {},
   "outputs": [],
   "source": [
    "from pathlib import Path\n",
    "\n",
    "DATA_PATH = Path('../../data/')\n",
    "DATA_PATH.mkdir(parents=True, exist_ok=True)\n",
    "\n",
    "DATA_CACHE = DATA_PATH / Path('cache_dir/')\n",
    "DATA_CACHE.mkdir(parents=True, exist_ok=True)\n",
    "\n",
    "LOG_DATA = Path('../../logs/')\n",
    "LOG_DATA.mkdir(parents=True, exist_ok=True)\n",
    "\n",
    "import pandas as pd\n",
    "\n",
    "pd.set_option('display.max_colwidth', 500) "
   ]
  },
  {
   "cell_type": "code",
   "execution_count": 12,
   "id": "9b12a68f",
   "metadata": {},
   "outputs": [],
   "source": [
    "import sys\n",
    "import os\n",
    "\n",
    "project_path = os.path.abspath(os.path.join(os.getcwd(), \"../..\"))\n",
    "sys.path.append(project_path)"
   ]
  },
  {
   "cell_type": "code",
   "execution_count": 13,
   "id": "0fe21e56",
   "metadata": {},
   "outputs": [
    {
     "name": "stdout",
     "output_type": "stream",
     "text": [
      "OpenAI API Key загружен: да\n"
     ]
    }
   ],
   "source": [
    "from app.settings import settings\n",
    "from app.models.openai_service import OpenAIService\n",
    "\n",
    "# Проверим API ключ\n",
    "print(f\"OpenAI API Key загружен: {'да' if settings.OPENAI_API_KEY else 'нет'}\")\n"
   ]
  },
  {
   "cell_type": "code",
   "execution_count": 14,
   "id": "653a8fc9",
   "metadata": {},
   "outputs": [],
   "source": [
    "llm = OpenAIService(api_key=settings.OPENAI_API_KEY, model_name=\"gpt-4.1-nano\")\n"
   ]
  },
  {
   "cell_type": "code",
   "execution_count": 15,
   "id": "484323f2",
   "metadata": {},
   "outputs": [
    {
     "name": "stdout",
     "output_type": "stream",
     "text": [
      "2025-08-14 15:56:12 - httpx - INFO - HTTP Request: POST https://api.openai.com/v1/chat/completions \"HTTP/1.1 200 OK\"\n",
      "Ответ модели:\n",
      "Привет! Я — искусственный интеллект, и у меня нет имени, но ты можешь обращаться ко мне как угодно. Как я могу помочь тебе сегодня?\n"
     ]
    }
   ],
   "source": [
    "messages = [{\"role\": \"user\", \"content\": \"Привет, как тебя зовут?\"}]\n",
    "response = llm.chat(messages=messages, stream=False)\n",
    "\n",
    "print(\"Ответ модели:\")\n",
    "print(response)\n"
   ]
  },
  {
   "cell_type": "code",
   "execution_count": 16,
   "id": "45623777",
   "metadata": {},
   "outputs": [
    {
     "name": "stdout",
     "output_type": "stream",
     "text": [
      "Потоковый ответ:\n",
      "2025-08-14 15:56:12 - httpx - INFO - HTTP Request: POST https://api.openai.com/v1/chat/completions \"HTTP/1.1 200 OK\"\n",
      "Жил-был в одном маленьком доме серый кот по имени Тимка. Он был любопытным и добрым, всегда готовым к приключениям. Каждое утро Тимка просыпался с первыми лучами солнца и бегал по саду в поисках ярких бабочек. Однажды, пробежав мимо цветущих кустов, он наткнулся на потерявшуюся птичку. Не раздумывая, кот аккуратно поднял её лапой и аккуратно отнес на безопасное место. С тех пор Тимка стал не только любимцем хозяев, но и другом для всех животных вокруг. И каждый вечер, уютно свернувшись у камина, он чувствовал тепло и радость от того, что помогает окружающему миру."
     ]
    }
   ],
   "source": [
    "messages = [{\"role\": \"user\", \"content\": \"Напиши короткий рассказ про кота\"}]\n",
    "\n",
    "print(\"Потоковый ответ:\")\n",
    "for chunk in llm.chat(messages=messages, stream=True):\n",
    "    print(chunk, end=\"\", flush=True)\n"
   ]
  },
  {
   "cell_type": "code",
   "execution_count": 17,
   "id": "adde31be",
   "metadata": {},
   "outputs": [
    {
     "name": "stdout",
     "output_type": "stream",
     "text": [
      "Текст: Привет, мир!\n",
      "Токенов: 5\n"
     ]
    }
   ],
   "source": [
    "from app.services.token_manager import TokenManager\n",
    "\n",
    "tm = TokenManager(\"gpt-4.1-nano\")\n",
    "text = \"Привет, мир!\"\n",
    "print(f\"Текст: {text}\")\n",
    "print(f\"Токенов: {tm.count_tokens(text)}\")\n"
   ]
  },
  {
   "cell_type": "code",
   "execution_count": null,
   "id": "2d0abd4f",
   "metadata": {},
   "outputs": [],
   "source": []
  },
  {
   "cell_type": "code",
   "execution_count": null,
   "id": "eb02fdf8",
   "metadata": {},
   "outputs": [],
   "source": []
  }
 ],
 "metadata": {
  "kernelspec": {
   "display_name": ".venv",
   "language": "python",
   "name": "python3"
  },
  "language_info": {
   "codemirror_mode": {
    "name": "ipython",
    "version": 3
   },
   "file_extension": ".py",
   "mimetype": "text/x-python",
   "name": "python",
   "nbconvert_exporter": "python",
   "pygments_lexer": "ipython3",
   "version": "3.11.5"
  }
 },
 "nbformat": 4,
 "nbformat_minor": 5
}
