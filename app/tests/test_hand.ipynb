{
 "cells": [
  {
   "cell_type": "markdown",
   "id": "f2042d3e",
   "metadata": {},
   "source": [
    "# Тестирование сервиса в ручную"
   ]
  },
  {
   "cell_type": "code",
   "execution_count": 1,
   "id": "c2a3f7a8",
   "metadata": {},
   "outputs": [],
   "source": [
    "from pathlib import Path\n",
    "\n",
    "DATA_PATH = Path('../../data/')\n",
    "DATA_PATH.mkdir(parents=True, exist_ok=True)\n",
    "\n",
    "DATA_CACHE = DATA_PATH / Path('cache_dir/')\n",
    "DATA_CACHE.mkdir(parents=True, exist_ok=True)\n",
    "\n",
    "LOG_DATA = Path('../../logs/')\n",
    "LOG_DATA.mkdir(parents=True, exist_ok=True)\n",
    "\n",
    "import pandas as pd\n",
    "\n",
    "pd.set_option('display.max_colwidth', 500) "
   ]
  },
  {
   "cell_type": "code",
   "execution_count": 2,
   "id": "9b12a68f",
   "metadata": {},
   "outputs": [],
   "source": [
    "import sys\n",
    "import os\n",
    "\n",
    "project_path = os.path.abspath(os.path.join(os.getcwd(), \"../..\"))\n",
    "sys.path.append(project_path)"
   ]
  },
  {
   "cell_type": "code",
   "execution_count": 3,
   "id": "0fe21e56",
   "metadata": {},
   "outputs": [
    {
     "name": "stdout",
     "output_type": "stream",
     "text": [
      "OpenAI API Key загружен: да\n"
     ]
    }
   ],
   "source": [
    "from app.settings import settings\n",
    "from app.models.openai import OpenAITextModel, OpenAIImageModel, OpenAIAudioTranscribeModel\n",
    "\n",
    "# Проверим API ключ\n",
    "print(f\"OpenAI API Key загружен: {'да' if settings.OPENAI_API_KEY else 'нет'}\")\n"
   ]
  },
  {
   "cell_type": "markdown",
   "id": "68615cdd",
   "metadata": {},
   "source": [
    "# Чат"
   ]
  },
  {
   "cell_type": "code",
   "execution_count": 4,
   "id": "653a8fc9",
   "metadata": {},
   "outputs": [],
   "source": [
    "# llm_openai = OpenAITextModel(api_key=settings.OPENAI_API_KEY, model_name=\"gpt-4.1-nano\")\n"
   ]
  },
  {
   "cell_type": "code",
   "execution_count": 5,
   "id": "484323f2",
   "metadata": {},
   "outputs": [],
   "source": [
    "# messages = [{\"role\": \"user\", \"content\": \"Привет, как тебя зовут?\"}]\n",
    "# response = llm_openai.generate(messages=messages)\n",
    "\n",
    "# print(\"Ответ модели:\")\n",
    "# print(response)\n"
   ]
  },
  {
   "cell_type": "code",
   "execution_count": 6,
   "id": "45623777",
   "metadata": {},
   "outputs": [],
   "source": [
    "# messages = [{\"role\": \"user\", \"content\": \"Как твои дела?\"}]\n",
    "\n",
    "# print(\"Потоковый ответ:\")\n",
    "# for chunk in llm_openai.generate_stream(messages=messages):\n",
    "#     print(chunk, end=\"\", flush=True)\n"
   ]
  },
  {
   "cell_type": "code",
   "execution_count": 7,
   "id": "480d2c80",
   "metadata": {},
   "outputs": [],
   "source": [
    "# from app.models.yandex import YandexChatModel\n",
    "\n",
    "# llm_yandex = YandexChatModel(\n",
    "#     auth=settings.YANDEX_API_KEY,\n",
    "#     folder_id=settings.YANDEX_FOLDER_ID,\n",
    "#     model_name=\"yandexgpt-lite\"\n",
    "# )"
   ]
  },
  {
   "cell_type": "code",
   "execution_count": 8,
   "id": "0351463c",
   "metadata": {},
   "outputs": [],
   "source": [
    "# messages = [{\"role\": \"user\", \"text\": \"Привет, как тебя зовут?\"}]\n",
    "# response = llm_yandex.generate(messages=messages)\n",
    "\n",
    "# print(\"Ответ YandexGPT:\")\n",
    "# print(response)"
   ]
  },
  {
   "cell_type": "code",
   "execution_count": 9,
   "id": "864ba776",
   "metadata": {},
   "outputs": [],
   "source": [
    "# messages = [{\"role\": \"user\", \"text\": \"Как твои дела?\"}]\n",
    "\n",
    "# response = llm_yandex.generate_stream(messages=messages)\n",
    "# response"
   ]
  },
  {
   "cell_type": "code",
   "execution_count": 10,
   "id": "adde31be",
   "metadata": {},
   "outputs": [],
   "source": [
    "# from app.services.token_manager import TokenManager\n",
    "\n",
    "# tm = TokenManager()\n",
    "# text = \"Привет, мир!\"\n",
    "# print(f\"Текст: {text}\")\n",
    "# print(f\"Токенов: {tm.count_tokens(text, model_name='gpt-4.1-nano')}\")\n"
   ]
  },
  {
   "cell_type": "markdown",
   "id": "c8d0761b",
   "metadata": {},
   "source": [
    "# Транскрибация"
   ]
  },
  {
   "cell_type": "code",
   "execution_count": null,
   "id": "81bdf5f0",
   "metadata": {},
   "outputs": [
    {
     "name": "stderr",
     "output_type": "stream",
     "text": [
      "d:\\Projects\\env_ml\\.venv\\Lib\\site-packages\\pydub\\utils.py:170: RuntimeWarning: Couldn't find ffmpeg or avconv - defaulting to ffmpeg, but may not work\n",
      "  warn(\"Couldn't find ffmpeg or avconv - defaulting to ffmpeg, but may not work\", RuntimeWarning)\n"
     ]
    }
   ],
   "source": [
    "import io\n",
    "from pathlib import Path\n",
    "\n",
    "from app.models.whisper import WhisperService\n",
    "from app.settings import settings\n",
    "\n",
    "audio_model = WhisperService(\n",
    "    model_name=\"tiny\",\n",
    "    # model_name=\"base\",\n",
    "    # model_name=\"dvislobokov/faster-whisper-large-v3-turbo-russian\",\n",
    "    # model_name=\"Systran/faster-whisper-large-v3\",\n",
    "    # model_name=\"Zoont/faster-whisper-large-v3-turbo-int8-ct2\",\n",
    "    device=\"cpu\",\n",
    "    # compute_type=\"float16\",\n",
    ")\n",
    "\n",
    "audio_path = Path(\"test.wav\")"
   ]
  },
  {
   "cell_type": "code",
   "execution_count": null,
   "id": "2b61c734",
   "metadata": {},
   "outputs": [
    {
     "name": "stdout",
     "output_type": "stream",
     "text": [
      "2025-08-21 18:19:31 - faster_whisper - INFO - Processing audio with duration 00:07.620\n",
      "Результат транскрипции:\n",
      "Шала Саша, Пошасы и Сасала Сушку.\n"
     ]
    }
   ],
   "source": [
    "with open(audio_path, \"rb\") as f:\n",
    "    audio_stream = io.BytesIO(f.read())\n",
    "\n",
    "\n",
    "result_text = audio_model.generate(\n",
    "    audio_stream,\n",
    "    language=\"ru\",\n",
    "    audio_format=\"wav\",\n",
    "    # task=\"transcribe\",\n",
    "    # beam_size=5,\n",
    "    # temperature=0.1,\n",
    ")\n",
    "\n",
    "print(\"Результат транскрипции:\")\n",
    "print(result_text)"
   ]
  },
  {
   "cell_type": "code",
   "execution_count": null,
   "id": "2d0abd4f",
   "metadata": {},
   "outputs": [],
   "source": [
    "# import io\n",
    "\n",
    "# audio_model = OpenAIAudioTranscribeModel(\n",
    "#     api_key=settings.OPENAI_API_KEY,\n",
    "#     model_name=\"gpt-4o-mini-transcribe\"\n",
    "# )\n",
    "\n",
    "# audio_path = Path(\"test.wav\")\n",
    "# with open(audio_path, \"rb\") as f:\n",
    "#     audio_stream = io.BytesIO(f.read())"
   ]
  },
  {
   "cell_type": "code",
   "execution_count": null,
   "id": "1c6567c8",
   "metadata": {},
   "outputs": [],
   "source": [
    "# result_text = audio_model.generate(\n",
    "#     audio_stream,\n",
    "#     filename=audio_path.name,\n",
    "#     language=\"ru\"\n",
    "# )\n",
    "\n",
    "# print(\"Результат транскрипции:\")\n",
    "# print(result_text)\n"
   ]
  },
  {
   "cell_type": "code",
   "execution_count": null,
   "id": "67507b02",
   "metadata": {},
   "outputs": [],
   "source": [
    "# import io\n",
    "# from pathlib import Path\n",
    "\n",
    "# from app.models.yandex import YandexSpeechToTextModel\n",
    "# from app.settings import settings\n",
    "\n",
    "# audio_model = YandexSpeechToTextModel(\n",
    "#     auth=settings.YANDEX_API_KEY,\n",
    "#     folder_id=settings.YANDEX_FOLDER_ID,\n",
    "#     model_name=\"general\",\n",
    "#     language=\"ru-RU\"\n",
    "# )\n",
    "# audio_path = Path(\"test.wav\")\n",
    "# with open(audio_path, \"rb\") as f:\n",
    "#     audio_stream = io.BytesIO(f.read())"
   ]
  },
  {
   "cell_type": "code",
   "execution_count": null,
   "id": "7029fc6b",
   "metadata": {},
   "outputs": [],
   "source": [
    "# result_text = audio_model.generate(\n",
    "#     audio_stream,\n",
    "#     filename=audio_path.name,\n",
    "#     enable_automatic_punctuation=True\n",
    "# )\n",
    "\n",
    "# print(\"Результат транскрипции:\")\n",
    "# print(result_text)"
   ]
  },
  {
   "cell_type": "markdown",
   "id": "0971033e",
   "metadata": {},
   "source": [
    "# Аудео"
   ]
  },
  {
   "cell_type": "markdown",
   "id": "bd630788",
   "metadata": {},
   "source": [
    "# Изображения"
   ]
  },
  {
   "cell_type": "code",
   "execution_count": null,
   "id": "eb02fdf8",
   "metadata": {},
   "outputs": [],
   "source": [
    "# import base64\n",
    "# from pathlib import Path\n",
    "# from app.models.openai import OpenAIImageModel\n",
    "# from app.settings import settings\n",
    "\n",
    "# image_model = OpenAIImageModel(\n",
    "#     api_key=settings.OPENAI_API_KEY,\n",
    "#     model_name=\"gpt-image-1\"\n",
    "# )\n",
    "\n",
    "# prompt = \"Футуристический город на закате\"\n",
    "# result_images = image_model.generate(\n",
    "#     prompt=prompt,\n",
    "#     n=1,\n",
    "#     size=\"1024x1024\",\n",
    "#     quality=\"low\"\n",
    "# )"
   ]
  },
  {
   "cell_type": "code",
   "execution_count": null,
   "id": "392680dd",
   "metadata": {},
   "outputs": [],
   "source": [
    "\n",
    "# output_dir = Path(\"generated_images\")\n",
    "# output_dir.mkdir(exist_ok=True)\n",
    "\n",
    "# for idx, img_b64 in enumerate(result_images, start=1):\n",
    "#     img_bytes = base64.b64decode(img_b64)\n",
    "#     img_path = output_dir / f\"image_{idx}.png\"\n",
    "#     with open(img_path, \"wb\") as f:\n",
    "#         f.write(img_bytes)\n",
    "#     print(f\"✅ Сохранено: {img_path}\")\n"
   ]
  },
  {
   "cell_type": "code",
   "execution_count": null,
   "id": "fd398db8",
   "metadata": {},
   "outputs": [],
   "source": [
    "# from app.models.yandex import YandexArtModel\n",
    "# from app.settings import settings\n",
    "\n",
    "# # Инициализация модели\n",
    "# art_model = YandexArtModel(\n",
    "#     auth=settings.YANDEX_API_KEY,\n",
    "#     folder_id=settings.YANDEX_FOLDER_ID,\n",
    "#     model_name=\"yandex-art\"\n",
    "# )"
   ]
  },
  {
   "cell_type": "code",
   "execution_count": null,
   "id": "aedd4c55",
   "metadata": {},
   "outputs": [],
   "source": [
    "# prompt = \"Нарисуй красную кошку в стиле Миядзаки\"\n",
    "\n",
    "# result = art_model.generate(prompt, output_path=\"./cat.jpeg\", width_ratio=1, height_ratio=1, seed=42)\n",
    "\n",
    "# print(\"Изображение успешно сгенерировано и сохранено в ./cat.jpeg\")\n",
    "# print(\"Версия модели:\", result.model_version)\n",
    "# print(\"Размер байтов:\", len(result.image_bytes))"
   ]
  },
  {
   "cell_type": "code",
   "execution_count": null,
   "id": "1b5f2658",
   "metadata": {},
   "outputs": [],
   "source": []
  }
 ],
 "metadata": {
  "kernelspec": {
   "display_name": ".venv",
   "language": "python",
   "name": "python3"
  },
  "language_info": {
   "codemirror_mode": {
    "name": "ipython",
    "version": 3
   },
   "file_extension": ".py",
   "mimetype": "text/x-python",
   "name": "python",
   "nbconvert_exporter": "python",
   "pygments_lexer": "ipython3",
   "version": "3.11.5"
  }
 },
 "nbformat": 4,
 "nbformat_minor": 5
}
